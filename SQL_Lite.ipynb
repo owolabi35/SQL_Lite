{
 "cells": [
  {
   "cell_type": "code",
   "execution_count": 1,
   "id": "0489a18c",
   "metadata": {},
   "outputs": [],
   "source": [
    "#import libraries\n",
    "import sqlite3 as db\n",
    "import pandas as pd"
   ]
  },
  {
   "cell_type": "code",
   "execution_count": 2,
   "id": "858e3971",
   "metadata": {},
   "outputs": [],
   "source": [
    "#connect to database or create if doesn't exist\n",
    "conn = db.connect('my_database.db')"
   ]
  },
  {
   "cell_type": "markdown",
   "id": "a5c6c3d8",
   "metadata": {},
   "source": [
    "In order to interact with our database, we now have to create a cursor. This is what we will use to issue commands that will allow us to query or modify our database.\n",
    "\n"
   ]
  },
  {
   "cell_type": "code",
   "execution_count": 3,
   "id": "6ae7db5e",
   "metadata": {},
   "outputs": [],
   "source": [
    "#create cursor\n",
    "c = conn.cursor()"
   ]
  },
  {
   "cell_type": "markdown",
   "id": "1842af50",
   "metadata": {},
   "source": [
    "Create table"
   ]
  },
  {
   "cell_type": "code",
   "execution_count": 4,
   "id": "af9f0cb9",
   "metadata": {},
   "outputs": [
    {
     "data": {
      "text/plain": [
       "<sqlite3.Cursor at 0x25ceaad0810>"
      ]
     },
     "execution_count": 4,
     "metadata": {},
     "output_type": "execute_result"
    }
   ],
   "source": [
    "#create table called 'employees'\n",
    "c.execute(\"CREATE TABLE employees (empid INTEGER PRIMARY KEY, firstname NVARCHAR(20), lastname NVARCHAR(20))\")"
   ]
  },
  {
   "cell_type": "code",
   "execution_count": 5,
   "id": "655ab66f",
   "metadata": {},
   "outputs": [
    {
     "name": "stdout",
     "output_type": "stream",
     "text": [
      "[('employees',)]\n"
     ]
    }
   ],
   "source": [
    "#check that table was successfully created in database\n",
    "c.execute(\"SELECT name FROM sqlite_master WHERE type='table';\")\n",
    "print(c.fetchall())"
   ]
  },
  {
   "cell_type": "markdown",
   "id": "a318c779",
   "metadata": {},
   "source": [
    "\n",
    "Insert data into table\n",
    "Option 1 - insert a few rows"
   ]
  },
  {
   "cell_type": "code",
   "execution_count": 6,
   "id": "e9d0d2ea",
   "metadata": {},
   "outputs": [
    {
     "data": {
      "text/plain": [
       "<sqlite3.Cursor at 0x25ceaad0810>"
      ]
     },
     "execution_count": 6,
     "metadata": {},
     "output_type": "execute_result"
    }
   ],
   "source": [
    "c.execute(\"INSERT INTO employees VALUES (12985,'Michael','Scott')\")\n",
    "c.execute(\"INSERT INTO employees VALUES (12986,'Dwight', 'Schrute')\")"
   ]
  },
  {
   "cell_type": "code",
   "execution_count": 7,
   "id": "08011034",
   "metadata": {},
   "outputs": [
    {
     "name": "stdout",
     "output_type": "stream",
     "text": [
      "[(12985, 'Michael', 'Scott'), (12986, 'Dwight', 'Schrute')]\n"
     ]
    }
   ],
   "source": [
    "#check data in table\n",
    "c.execute(\"SELECT * FROM employees;\")\n",
    "print(c.fetchall())"
   ]
  },
  {
   "cell_type": "markdown",
   "id": "c34e0088",
   "metadata": {},
   "source": [
    "Option 2 - insert many rows"
   ]
  },
  {
   "cell_type": "code",
   "execution_count": 8,
   "id": "499f74dd",
   "metadata": {},
   "outputs": [],
   "source": [
    "new_employees = [(12987, 'Jim', 'Halpert'),\n",
    " (12988, 'Pam', 'Beesly'),\n",
    " (12989, 'Andy', 'Bernard'),\n",
    " (12990, 'Kevin', 'Malone'),\n",
    " (12991, 'Toby', 'Flenderson'),\n",
    " (12992, 'Angela', 'Martin'),\n",
    " (12993, 'Stanley', 'Hudson')]"
   ]
  },
  {
   "cell_type": "code",
   "execution_count": 9,
   "id": "ace6d2b7",
   "metadata": {},
   "outputs": [
    {
     "data": {
      "text/plain": [
       "<sqlite3.Cursor at 0x25ceaad0810>"
      ]
     },
     "execution_count": 9,
     "metadata": {},
     "output_type": "execute_result"
    }
   ],
   "source": [
    "c.executemany('INSERT INTO employees VALUES (?, ?, ?)', new_employees)"
   ]
  },
  {
   "cell_type": "code",
   "execution_count": 10,
   "id": "1e6b62ff",
   "metadata": {},
   "outputs": [
    {
     "name": "stdout",
     "output_type": "stream",
     "text": [
      "[(12985, 'Michael', 'Scott'), (12986, 'Dwight', 'Schrute'), (12987, 'Jim', 'Halpert'), (12988, 'Pam', 'Beesly'), (12989, 'Andy', 'Bernard'), (12990, 'Kevin', 'Malone'), (12991, 'Toby', 'Flenderson'), (12992, 'Angela', 'Martin'), (12993, 'Stanley', 'Hudson')]\n"
     ]
    }
   ],
   "source": [
    "#check data in table\n",
    "c.execute(\"SELECT * FROM employees;\")\n",
    "print(c.fetchall())"
   ]
  },
  {
   "cell_type": "markdown",
   "id": "9539ca33",
   "metadata": {},
   "source": [
    "Notice that we’ve replaced our insert statement from earlier with (?, ?, ?). The question marks here represent placeholders for the three items that we are inputting into the table."
   ]
  },
  {
   "cell_type": "markdown",
   "id": "66175d3f",
   "metadata": {},
   "source": [
    "Committing changes\n",
    "\n",
    "We’ve made a couple changes to our database, but they are not saved to the database just yet! These are just temporary modifications, so we have to make sure to commit those changes with the following command."
   ]
  },
  {
   "cell_type": "code",
   "execution_count": 11,
   "id": "deae666e",
   "metadata": {},
   "outputs": [],
   "source": [
    "conn.commit()"
   ]
  },
  {
   "cell_type": "markdown",
   "id": "e4ac6c73",
   "metadata": {},
   "source": [
    "Close connections"
   ]
  },
  {
   "cell_type": "code",
   "execution_count": 12,
   "id": "2c74aee9",
   "metadata": {},
   "outputs": [],
   "source": [
    "c.close()\n",
    "conn.close()"
   ]
  },
  {
   "cell_type": "markdown",
   "id": "e4c26a45",
   "metadata": {},
   "source": [
    "Drop table if you need to"
   ]
  },
  {
   "cell_type": "code",
   "execution_count": 13,
   "id": "434fb06c",
   "metadata": {},
   "outputs": [],
   "source": [
    "#c.execute(\"DROP TABLE IF EXISTS employees\")"
   ]
  },
  {
   "cell_type": "markdown",
   "id": "b21d0dee",
   "metadata": {},
   "source": [
    "SQLite via Pandas\n",
    "\n",
    "One cool thing you can do is use both SQLite and Pandas. Pandas has a read_sql_query method that will allow you to return the data as a Pandas dataframe. From there, you can more easily manipulate the data in Pandas. Personally, I prefer bringing the data inside Pandas to work with.\n",
    "\n",
    "We again have to first establish a connection to our database. Then we can use pd.read_sql_queryand save the output as a dataframe calleddf_employees."
   ]
  },
  {
   "cell_type": "code",
   "execution_count": 14,
   "id": "c6d8e831",
   "metadata": {},
   "outputs": [],
   "source": [
    "#Establish connection\n",
    "con = db.connect('my_database.db')"
   ]
  },
  {
   "cell_type": "code",
   "execution_count": 15,
   "id": "558c3476",
   "metadata": {},
   "outputs": [
    {
     "data": {
      "text/html": [
       "<div>\n",
       "<style scoped>\n",
       "    .dataframe tbody tr th:only-of-type {\n",
       "        vertical-align: middle;\n",
       "    }\n",
       "\n",
       "    .dataframe tbody tr th {\n",
       "        vertical-align: top;\n",
       "    }\n",
       "\n",
       "    .dataframe thead th {\n",
       "        text-align: right;\n",
       "    }\n",
       "</style>\n",
       "<table border=\"1\" class=\"dataframe\">\n",
       "  <thead>\n",
       "    <tr style=\"text-align: right;\">\n",
       "      <th></th>\n",
       "      <th>empid</th>\n",
       "      <th>firstname</th>\n",
       "      <th>lastname</th>\n",
       "    </tr>\n",
       "  </thead>\n",
       "  <tbody>\n",
       "    <tr>\n",
       "      <th>0</th>\n",
       "      <td>12985</td>\n",
       "      <td>Michael</td>\n",
       "      <td>Scott</td>\n",
       "    </tr>\n",
       "    <tr>\n",
       "      <th>1</th>\n",
       "      <td>12986</td>\n",
       "      <td>Dwight</td>\n",
       "      <td>Schrute</td>\n",
       "    </tr>\n",
       "    <tr>\n",
       "      <th>2</th>\n",
       "      <td>12987</td>\n",
       "      <td>Jim</td>\n",
       "      <td>Halpert</td>\n",
       "    </tr>\n",
       "    <tr>\n",
       "      <th>3</th>\n",
       "      <td>12988</td>\n",
       "      <td>Pam</td>\n",
       "      <td>Beesly</td>\n",
       "    </tr>\n",
       "    <tr>\n",
       "      <th>4</th>\n",
       "      <td>12989</td>\n",
       "      <td>Andy</td>\n",
       "      <td>Bernard</td>\n",
       "    </tr>\n",
       "    <tr>\n",
       "      <th>5</th>\n",
       "      <td>12990</td>\n",
       "      <td>Kevin</td>\n",
       "      <td>Malone</td>\n",
       "    </tr>\n",
       "    <tr>\n",
       "      <th>6</th>\n",
       "      <td>12991</td>\n",
       "      <td>Toby</td>\n",
       "      <td>Flenderson</td>\n",
       "    </tr>\n",
       "    <tr>\n",
       "      <th>7</th>\n",
       "      <td>12992</td>\n",
       "      <td>Angela</td>\n",
       "      <td>Martin</td>\n",
       "    </tr>\n",
       "    <tr>\n",
       "      <th>8</th>\n",
       "      <td>12993</td>\n",
       "      <td>Stanley</td>\n",
       "      <td>Hudson</td>\n",
       "    </tr>\n",
       "  </tbody>\n",
       "</table>\n",
       "</div>"
      ],
      "text/plain": [
       "   empid firstname    lastname\n",
       "0  12985   Michael       Scott\n",
       "1  12986    Dwight     Schrute\n",
       "2  12987       Jim     Halpert\n",
       "3  12988       Pam      Beesly\n",
       "4  12989      Andy     Bernard\n",
       "5  12990     Kevin      Malone\n",
       "6  12991      Toby  Flenderson\n",
       "7  12992    Angela      Martin\n",
       "8  12993   Stanley      Hudson"
      ]
     },
     "execution_count": 15,
     "metadata": {},
     "output_type": "execute_result"
    }
   ],
   "source": [
    "#Perform SQL query and return pandas data frame\n",
    "df_employees = pd.read_sql_query ('select * from employees', con)\n",
    "df_employees"
   ]
  },
  {
   "cell_type": "code",
   "execution_count": 16,
   "id": "0b1c83ce",
   "metadata": {},
   "outputs": [
    {
     "data": {
      "text/html": [
       "<div>\n",
       "<style scoped>\n",
       "    .dataframe tbody tr th:only-of-type {\n",
       "        vertical-align: middle;\n",
       "    }\n",
       "\n",
       "    .dataframe tbody tr th {\n",
       "        vertical-align: top;\n",
       "    }\n",
       "\n",
       "    .dataframe thead th {\n",
       "        text-align: right;\n",
       "    }\n",
       "</style>\n",
       "<table border=\"1\" class=\"dataframe\">\n",
       "  <thead>\n",
       "    <tr style=\"text-align: right;\">\n",
       "      <th></th>\n",
       "      <th>empid</th>\n",
       "      <th>firstname</th>\n",
       "      <th>lastname</th>\n",
       "    </tr>\n",
       "  </thead>\n",
       "  <tbody>\n",
       "    <tr>\n",
       "      <th>0</th>\n",
       "      <td>12985</td>\n",
       "      <td>Michael</td>\n",
       "      <td>Scott</td>\n",
       "    </tr>\n",
       "    <tr>\n",
       "      <th>1</th>\n",
       "      <td>12986</td>\n",
       "      <td>Dwight</td>\n",
       "      <td>Schrute</td>\n",
       "    </tr>\n",
       "    <tr>\n",
       "      <th>2</th>\n",
       "      <td>12987</td>\n",
       "      <td>Jim</td>\n",
       "      <td>Halpert</td>\n",
       "    </tr>\n",
       "    <tr>\n",
       "      <th>3</th>\n",
       "      <td>12988</td>\n",
       "      <td>Pam</td>\n",
       "      <td>Beesly</td>\n",
       "    </tr>\n",
       "    <tr>\n",
       "      <th>4</th>\n",
       "      <td>12989</td>\n",
       "      <td>Andy</td>\n",
       "      <td>Bernard</td>\n",
       "    </tr>\n",
       "    <tr>\n",
       "      <th>5</th>\n",
       "      <td>12990</td>\n",
       "      <td>Kevin</td>\n",
       "      <td>Malone</td>\n",
       "    </tr>\n",
       "    <tr>\n",
       "      <th>6</th>\n",
       "      <td>12991</td>\n",
       "      <td>Toby</td>\n",
       "      <td>Flenderson</td>\n",
       "    </tr>\n",
       "    <tr>\n",
       "      <th>7</th>\n",
       "      <td>12992</td>\n",
       "      <td>Angela</td>\n",
       "      <td>Martin</td>\n",
       "    </tr>\n",
       "  </tbody>\n",
       "</table>\n",
       "</div>"
      ],
      "text/plain": [
       "   empid firstname    lastname\n",
       "0  12985   Michael       Scott\n",
       "1  12986    Dwight     Schrute\n",
       "2  12987       Jim     Halpert\n",
       "3  12988       Pam      Beesly\n",
       "4  12989      Andy     Bernard\n",
       "5  12990     Kevin      Malone\n",
       "6  12991      Toby  Flenderson\n",
       "7  12992    Angela      Martin"
      ]
     },
     "execution_count": 16,
     "metadata": {},
     "output_type": "execute_result"
    }
   ],
   "source": [
    "#remove Stanley from employee table\n",
    "df_new = df_employees[:-1]\n",
    "df_new"
   ]
  },
  {
   "cell_type": "code",
   "execution_count": 17,
   "id": "dbe8e442",
   "metadata": {},
   "outputs": [],
   "source": [
    "#Write the new dataframe to SQLite and replace employee table\n",
    "df_new.to_sql(\"employees\", con, if_exists=\"replace\")"
   ]
  },
  {
   "cell_type": "code",
   "execution_count": 18,
   "id": "c84ffaea",
   "metadata": {},
   "outputs": [
    {
     "data": {
      "text/html": [
       "<div>\n",
       "<style scoped>\n",
       "    .dataframe tbody tr th:only-of-type {\n",
       "        vertical-align: middle;\n",
       "    }\n",
       "\n",
       "    .dataframe tbody tr th {\n",
       "        vertical-align: top;\n",
       "    }\n",
       "\n",
       "    .dataframe thead th {\n",
       "        text-align: right;\n",
       "    }\n",
       "</style>\n",
       "<table border=\"1\" class=\"dataframe\">\n",
       "  <thead>\n",
       "    <tr style=\"text-align: right;\">\n",
       "      <th></th>\n",
       "      <th>index</th>\n",
       "      <th>empid</th>\n",
       "      <th>firstname</th>\n",
       "      <th>lastname</th>\n",
       "    </tr>\n",
       "  </thead>\n",
       "  <tbody>\n",
       "    <tr>\n",
       "      <th>0</th>\n",
       "      <td>0</td>\n",
       "      <td>12985</td>\n",
       "      <td>Michael</td>\n",
       "      <td>Scott</td>\n",
       "    </tr>\n",
       "    <tr>\n",
       "      <th>1</th>\n",
       "      <td>1</td>\n",
       "      <td>12986</td>\n",
       "      <td>Dwight</td>\n",
       "      <td>Schrute</td>\n",
       "    </tr>\n",
       "    <tr>\n",
       "      <th>2</th>\n",
       "      <td>2</td>\n",
       "      <td>12987</td>\n",
       "      <td>Jim</td>\n",
       "      <td>Halpert</td>\n",
       "    </tr>\n",
       "    <tr>\n",
       "      <th>3</th>\n",
       "      <td>3</td>\n",
       "      <td>12988</td>\n",
       "      <td>Pam</td>\n",
       "      <td>Beesly</td>\n",
       "    </tr>\n",
       "    <tr>\n",
       "      <th>4</th>\n",
       "      <td>4</td>\n",
       "      <td>12989</td>\n",
       "      <td>Andy</td>\n",
       "      <td>Bernard</td>\n",
       "    </tr>\n",
       "    <tr>\n",
       "      <th>5</th>\n",
       "      <td>5</td>\n",
       "      <td>12990</td>\n",
       "      <td>Kevin</td>\n",
       "      <td>Malone</td>\n",
       "    </tr>\n",
       "    <tr>\n",
       "      <th>6</th>\n",
       "      <td>6</td>\n",
       "      <td>12991</td>\n",
       "      <td>Toby</td>\n",
       "      <td>Flenderson</td>\n",
       "    </tr>\n",
       "    <tr>\n",
       "      <th>7</th>\n",
       "      <td>7</td>\n",
       "      <td>12992</td>\n",
       "      <td>Angela</td>\n",
       "      <td>Martin</td>\n",
       "    </tr>\n",
       "  </tbody>\n",
       "</table>\n",
       "</div>"
      ],
      "text/plain": [
       "   index  empid firstname    lastname\n",
       "0      0  12985   Michael       Scott\n",
       "1      1  12986    Dwight     Schrute\n",
       "2      2  12987       Jim     Halpert\n",
       "3      3  12988       Pam      Beesly\n",
       "4      4  12989      Andy     Bernard\n",
       "5      5  12990     Kevin      Malone\n",
       "6      6  12991      Toby  Flenderson\n",
       "7      7  12992    Angela      Martin"
      ]
     },
     "execution_count": 18,
     "metadata": {},
     "output_type": "execute_result"
    }
   ],
   "source": [
    "#Check table in SQLite\n",
    "pd.read_sql_query ('select * from employees', con)"
   ]
  },
  {
   "cell_type": "code",
   "execution_count": 20,
   "id": "c45fb96c",
   "metadata": {},
   "outputs": [],
   "source": [
    "\n",
    "#Close connection\n",
    "\n",
    "con.close()"
   ]
  },
  {
   "cell_type": "code",
   "execution_count": null,
   "id": "367ba5bd",
   "metadata": {},
   "outputs": [],
   "source": []
  },
  {
   "cell_type": "code",
   "execution_count": null,
   "id": "b22863bc",
   "metadata": {},
   "outputs": [],
   "source": []
  }
 ],
 "metadata": {
  "kernelspec": {
   "display_name": "Python 3 (ipykernel)",
   "language": "python",
   "name": "python3"
  },
  "language_info": {
   "codemirror_mode": {
    "name": "ipython",
    "version": 3
   },
   "file_extension": ".py",
   "mimetype": "text/x-python",
   "name": "python",
   "nbconvert_exporter": "python",
   "pygments_lexer": "ipython3",
   "version": "3.9.7"
  }
 },
 "nbformat": 4,
 "nbformat_minor": 5
}
